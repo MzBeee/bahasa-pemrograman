{
 "cells": [
  {
   "cell_type": "code",
   "execution_count": 1,
   "metadata": {},
   "outputs": [
    {
     "name": "stdout",
     "output_type": "stream",
     "text": [
      "(1, 'Alice', 30)\n",
      "(2, 'Bob', 25)\n"
     ]
    }
   ],
   "source": [
    "# Sel 1: Import Modul\n",
    "import sqlite3\n",
    "\n",
    "# Sel 2: Membuat Koneksi dan Mengelola Database SQLite\n",
    "def kelola_database_sqlite():\n",
    "    # Membuat koneksi ke database SQLite\n",
    "    conn = sqlite3.connect('example.db')\n",
    "    cursor = conn.cursor()\n",
    "\n",
    "    # Membuat tabel\n",
    "    cursor.execute('''CREATE TABLE IF NOT EXISTS users (\n",
    "                      id INTEGER PRIMARY KEY AUTOINCREMENT,\n",
    "                      name TEXT,\n",
    "                      age INTEGER)''')\n",
    "\n",
    "    # Menambahkan data ke tabel\n",
    "    cursor.execute('''INSERT INTO users (name, age) VALUES (?, ?)''', ('Alice', 30))\n",
    "    cursor.execute('''INSERT INTO users (name, age) VALUES (?, ?)''', ('Bob', 25))\n",
    "\n",
    "    # Commit perubahan\n",
    "    conn.commit()\n",
    "\n",
    "    # Mengambil data dari tabel\n",
    "    cursor.execute('''SELECT * FROM users''')\n",
    "    rows = cursor.fetchall()\n",
    "    for row in rows:\n",
    "        print(row)\n",
    "\n",
    "    # Menutup koneksi\n",
    "    conn.close()\n",
    "\n",
    "# Sel 3: Menjalankan Fungsi\n",
    "kelola_database_sqlite()\n"
   ]
  }
 ],
 "metadata": {
  "kernelspec": {
   "display_name": "Python 3",
   "language": "python",
   "name": "python3"
  },
  "language_info": {
   "codemirror_mode": {
    "name": "ipython",
    "version": 3
   },
   "file_extension": ".py",
   "mimetype": "text/x-python",
   "name": "python",
   "nbconvert_exporter": "python",
   "pygments_lexer": "ipython3",
   "version": "3.10.12"
  }
 },
 "nbformat": 4,
 "nbformat_minor": 2
}
