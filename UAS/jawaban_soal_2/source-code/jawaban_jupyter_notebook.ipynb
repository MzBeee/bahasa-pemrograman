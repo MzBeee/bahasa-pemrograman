{
 "cells": [
  {
   "cell_type": "code",
   "execution_count": 1,
   "metadata": {},
   "outputs": [
    {
     "name": "stdout",
     "output_type": "stream",
     "text": [
      "Eksekusi blok finally.\n",
      "Akar kuadrat dari 16 adalah: 4.0\n",
      "Error: Input tidak boleh negatif untuk akar kuadrat.\n",
      "Eksekusi blok finally.\n",
      "Akar kuadrat dari -4 adalah: None\n",
      "Error: Argumen harus berupa angka.\n",
      "Eksekusi blok finally.\n",
      "Akar kuadrat dari 'a' adalah: None\n"
     ]
    }
   ],
   "source": [
    "# Sel 1: Import Modul\n",
    "import math\n",
    "\n",
    "# Sel 2: Contoh Fungsi dengan Exception Handling\n",
    "\n",
    "def akar_kuadrat(x):\n",
    "    try:\n",
    "        # Usahakan melakukan operasi akar kuadrat\n",
    "        if x < 0:\n",
    "            raise ValueError(\"Input tidak boleh negatif untuk akar kuadrat.\")\n",
    "        hasil = math.sqrt(x)\n",
    "    except ValueError as ve:\n",
    "        # Tangani kesalahan jika input negatif\n",
    "        print(f\"Error: {ve}\")\n",
    "        return None\n",
    "    except TypeError:\n",
    "        # Tangani kesalahan jika argumen bukan angka\n",
    "        print(\"Error: Argumen harus berupa angka.\")\n",
    "        return None\n",
    "    else:\n",
    "        # Jika tidak ada kesalahan, kembalikan hasil\n",
    "        return hasil\n",
    "    finally:\n",
    "        # Blok ini selalu dijalankan, baik ada kesalahan atau tidak\n",
    "        print(\"Eksekusi blok finally.\")\n",
    "\n",
    "# Sel 3: Pengujian Fungsi\n",
    "\n",
    "# Pengujian kasus input valid\n",
    "print(\"Akar kuadrat dari 16 adalah:\", akar_kuadrat(16))\n",
    "\n",
    "# Pengujian kasus input negatif\n",
    "print(\"Akar kuadrat dari -4 adalah:\", akar_kuadrat(-4))\n",
    "\n",
    "# Pengujian kasus dengan argumen bukan angka\n",
    "print(\"Akar kuadrat dari 'a' adalah:\", akar_kuadrat('a'))\n"
   ]
  }
 ],
 "metadata": {
  "kernelspec": {
   "display_name": "Python 3",
   "language": "python",
   "name": "python3"
  },
  "language_info": {
   "codemirror_mode": {
    "name": "ipython",
    "version": 3
   },
   "file_extension": ".py",
   "mimetype": "text/x-python",
   "name": "python",
   "nbconvert_exporter": "python",
   "pygments_lexer": "ipython3",
   "version": "3.10.12"
  }
 },
 "nbformat": 4,
 "nbformat_minor": 2
}
