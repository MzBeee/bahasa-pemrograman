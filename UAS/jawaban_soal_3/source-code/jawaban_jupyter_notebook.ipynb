{
 "cells": [
  {
   "cell_type": "code",
   "execution_count": null,
   "metadata": {},
   "outputs": [],
   "source": [
    "# Sel 1: Import Modul\n",
    "import tkinter as tk\n",
    "from tkinter import messagebox\n",
    "\n",
    "# Sel 2: Fungsi untuk Menangani Klik Tombol\n",
    "def tombol_ditekan():\n",
    "    messagebox.showinfo(\"Informasi\", \"Tombol telah ditekan!\")\n",
    "\n",
    "# Sel 3: Membuat Jendela GUI\n",
    "def buat_aplikasi():\n",
    "    # Membuat jendela utama\n",
    "    jendela = tk.Tk()\n",
    "    jendela.title(\"Contoh GUI dengan Tkinter\")\n",
    "    \n",
    "    # Menambahkan label\n",
    "    label = tk.Label(jendela, text=\"Selamat datang di aplikasi GUI!\")\n",
    "    label.pack(pady=10)\n",
    "    \n",
    "    # Menambahkan tombol\n",
    "    tombol = tk.Button(jendela, text=\"Tekan Saya\", command=tombol_ditekan)\n",
    "    tombol.pack(pady=10)\n",
    "    \n",
    "    # Menjalankan aplikasi\n",
    "    jendela.mainloop()\n",
    "\n",
    "# Sel 4: Menjalankan Aplikasi\n",
    "buat_aplikasi()\n"
   ]
  }
 ],
 "metadata": {
  "kernelspec": {
   "display_name": "Python 3",
   "language": "python",
   "name": "python3"
  },
  "language_info": {
   "codemirror_mode": {
    "name": "ipython",
    "version": 3
   },
   "file_extension": ".py",
   "mimetype": "text/x-python",
   "name": "python",
   "nbconvert_exporter": "python",
   "pygments_lexer": "ipython3",
   "version": "3.10.12"
  }
 },
 "nbformat": 4,
 "nbformat_minor": 2
}
