{
 "cells": [
  {
   "cell_type": "code",
   "execution_count": 2,
   "metadata": {},
   "outputs": [
    {
     "name": "stdout",
     "output_type": "stream",
     "text": [
      "Faktorial dari 5 adalah 120\n",
      "Hasil penjumlahan 3 dan 7 adalah 10\n",
      "Fibonacci ke-6 adalah 8\n",
      "Luas persegi panjang dengan panjang 10 dan lebar 5 adalah 50\n"
     ]
    }
   ],
   "source": [
    "# Fungsi Rekursif untuk Menghitung Faktorial\n",
    "def faktorial(n):\n",
    "    # Kondisi dasar: jika n adalah 1, kembalikan 1\n",
    "    if n == 1:\n",
    "        return 1\n",
    "    # Panggil kembali fungsi faktorial dengan n-1\n",
    "    else:\n",
    "        return n * faktorial(n - 1)\n",
    "\n",
    "# Fungsi Biasa untuk Menambahkan Dua Angka\n",
    "def tambah(a, b):\n",
    "    return a + b\n",
    "\n",
    "# Fungsi Rekursif untuk Menghitung Fibonacci\n",
    "def fibonacci(n):\n",
    "    # Kondisi dasar: jika n adalah 0 atau 1, kembalikan n\n",
    "    if n <= 1:\n",
    "        return n\n",
    "    # Panggil kembali fungsi fibonacci dengan n-1 dan n-2\n",
    "    else:\n",
    "        return fibonacci(n-1) + fibonacci(n-2)\n",
    "\n",
    "# Fungsi Biasa untuk Menghitung Luas Persegi Panjang\n",
    "def luas_persegi_panjang(panjang, lebar):\n",
    "    return panjang * lebar\n",
    "\n",
    "# Contoh Penggunaan Fungsi-fungsi di Atas\n",
    "\n",
    "# Faktorial\n",
    "angka_faktorial = 5\n",
    "print(f\"Faktorial dari {angka_faktorial} adalah {faktorial(angka_faktorial)}\")\n",
    "\n",
    "# Penjumlahan\n",
    "angka1 = 3\n",
    "angka2 = 7\n",
    "print(f\"Hasil penjumlahan {angka1} dan {angka2} adalah {tambah(angka1, angka2)}\")\n",
    "\n",
    "# Fibonacci\n",
    "urutan_fibonacci = 6\n",
    "print(f\"Fibonacci ke-{urutan_fibonacci} adalah {fibonacci(urutan_fibonacci)}\")\n",
    "\n",
    "# Luas Persegi Panjang\n",
    "panjang = 10\n",
    "lebar = 5\n",
    "print(f\"Luas persegi panjang dengan panjang {panjang} dan lebar {lebar} adalah {luas_persegi_panjang(panjang, lebar)}\")\n"
   ]
  }
 ],
 "metadata": {
  "kernelspec": {
   "display_name": "Python 3",
   "language": "python",
   "name": "python3"
  },
  "language_info": {
   "codemirror_mode": {
    "name": "ipython",
    "version": 3
   },
   "file_extension": ".py",
   "mimetype": "text/x-python",
   "name": "python",
   "nbconvert_exporter": "python",
   "pygments_lexer": "ipython3",
   "version": "3.10.12"
  }
 },
 "nbformat": 4,
 "nbformat_minor": 2
}
